{
 "cells": [
  {
   "cell_type": "markdown",
   "id": "32d55a74-ad37-4afc-9324-c3262a8444f7",
   "metadata": {},
   "source": [
    "<h1>Data Science Tools and Ecosystem</h1>"
   ]
  },
  {
   "cell_type": "markdown",
   "id": "4f7749fb-6214-461a-801c-d368542ecc2f",
   "metadata": {},
   "source": [
    "<h2>Author</h2>\n",
    "Benjamin Andrews"
   ]
  },
  {
   "cell_type": "markdown",
   "id": "4808aad0-e747-420f-8974-9bdcb52f779a",
   "metadata": {},
   "source": [
    "In this notebook, some examples of Data Science tools are used."
   ]
  },
  {
   "cell_type": "markdown",
   "id": "793abe3b-158f-46c2-9134-b8f36b80b26c",
   "metadata": {},
   "source": [
    "Objectives:\n",
    "<ul><li>List popular languages and libraries in data science.</li>\n",
    "<li>List common data science development environments.</li>\n",
    "<li>Practise numerical calculations in Python.</li></ul>"
   ]
  },
  {
   "cell_type": "markdown",
   "id": "5b64c47b-e16b-465a-ab23-c8b55eef3cef",
   "metadata": {},
   "source": [
    "Some examples of popular languages used by data scientists are:\n",
    "<ol>\n",
    "    <li>Python</li>\n",
    "    <li>R</li>\n",
    "    <li>Julia</li>\n",
    "</ol>"
   ]
  },
  {
   "cell_type": "markdown",
   "id": "48ebda68-8922-47e9-990b-3fe601f76c06",
   "metadata": {},
   "source": [
    "Some libraries commonly used by data scientists are:\n",
    "<ol>\n",
    "    <li>ggplot for R</li>\n",
    "    <li>matplotlib for Python</li>\n",
    "    <li>numpy for Python</li>\n",
    "</ol>"
   ]
  },
  {
   "cell_type": "markdown",
   "id": "681340a9-96cb-4004-9b5b-19795f99b3c1",
   "metadata": {},
   "source": [
    "<table>\n",
    "<tr><th>Data Science tools</th></tr>\n",
    "<tr><td>RStudio for R</td></tr>\n",
    "<tr><td>Spyder for Python</td></tr>\n",
    "<tr><td>Visual Studio Code for Python, R, C++ and more</td></tr>\n",
    "</table>"
   ]
  },
  {
   "cell_type": "markdown",
   "id": "51400aba-5c77-4647-a96c-8945bb933130",
   "metadata": {},
   "source": [
    "Below are some examples of arithmetic calculations with Python."
   ]
  },
  {
   "cell_type": "code",
   "execution_count": 4,
   "id": "4bc03365-b748-4078-b9bc-fa4cb4ff5184",
   "metadata": {},
   "outputs": [
    {
     "data": {
      "text/plain": [
       "17"
      ]
     },
     "execution_count": 4,
     "metadata": {},
     "output_type": "execute_result"
    }
   ],
   "source": [
    "(3*4)+5"
   ]
  },
  {
   "cell_type": "code",
   "execution_count": 5,
   "id": "76b20776-7328-4169-bc64-f8bca55577ef",
   "metadata": {},
   "outputs": [
    {
     "data": {
      "text/plain": [
       "3.3333333333333335"
      ]
     },
     "execution_count": 5,
     "metadata": {},
     "output_type": "execute_result"
    }
   ],
   "source": [
    "## This will convert minutes to hours by dividing by 60.\n",
    "200/60"
   ]
  },
  {
   "cell_type": "code",
   "execution_count": null,
   "id": "7e9fd21c-b067-4629-804e-725d4eeb5376",
   "metadata": {},
   "outputs": [],
   "source": []
  }
 ],
 "metadata": {
  "kernelspec": {
   "display_name": "anaconda-ai-2024.04-py310",
   "language": "python",
   "name": "conda-env-anaconda-ai-2024.04-py310-py"
  },
  "language_info": {
   "codemirror_mode": {
    "name": "ipython",
    "version": 3
   },
   "file_extension": ".py",
   "mimetype": "text/x-python",
   "name": "python",
   "nbconvert_exporter": "python",
   "pygments_lexer": "ipython3",
   "version": "3.10.13"
  }
 },
 "nbformat": 4,
 "nbformat_minor": 5
}
